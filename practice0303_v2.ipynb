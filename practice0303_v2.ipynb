{
 "cells": [
  {
   "cell_type": "code",
   "execution_count": 1,
   "id": "77390fab",
   "metadata": {},
   "outputs": [
    {
     "name": "stdout",
     "output_type": "stream",
     "text": [
      "Hello world\n"
     ]
    }
   ],
   "source": [
    "print(\"Hello world\")"
   ]
  },
  {
   "cell_type": "markdown",
   "id": "396578ad-1bef-4f9b-b6a4-133bc6eb637c",
   "metadata": {},
   "source": [
    "Hi "
   ]
  },
  {
   "cell_type": "markdown",
   "id": "f69d9d8d-6d57-4ac5-98d5-944b0705af2a",
   "metadata": {},
   "source": [
    "<a href=\"https://dataplatform.cloud.ibm.com/gallery\">IBM Cloud Gallery</a>"
   ]
  },
  {
   "cell_type": "markdown",
   "id": "cf2ba420-f21f-4978-a41c-6b6828380cb4",
   "metadata": {},
   "source": [
    "| header | header |\n",
    "| ------ | ------ |\n",
    "| cell | cell |"
   ]
  },
  {
   "cell_type": "markdown",
   "id": "751a4178-605e-4073-8cb8-fa7844a692c7",
   "metadata": {},
   "source": [
    "|seq|name|id|age|\n",
    "|---|---|---|---|\n",
    "|1|Amy|123|23|\n",
    "|2|Ben|456|24|\n",
    "|3|Candy|789|25|"
   ]
  },
  {
   "cell_type": "markdown",
   "id": "d7f6307d-538c-482e-a8e9-e38670812b2c",
   "metadata": {},
   "source": []
  }
 ],
 "metadata": {
  "kernelspec": {
   "display_name": "Python 3 (ipykernel)",
   "language": "python",
   "name": "python3"
  },
  "language_info": {
   "codemirror_mode": {
    "name": "ipython",
    "version": 3
   },
   "file_extension": ".py",
   "mimetype": "text/x-python",
   "name": "python",
   "nbconvert_exporter": "python",
   "pygments_lexer": "ipython3",
   "version": "3.9.13"
  }
 },
 "nbformat": 4,
 "nbformat_minor": 5
}
